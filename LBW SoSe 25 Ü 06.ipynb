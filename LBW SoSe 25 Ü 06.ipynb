{
 "cells": [
  {
   "cell_type": "markdown",
   "id": "f2a2363f",
   "metadata": {},
   "source": [
    "# LBW Übung 6 - Christensen-Versagenshypothese"
   ]
  },
  {
   "cell_type": "markdown",
   "id": "25c0d2b4",
   "metadata": {},
   "source": [
    "Die Christensen Versagenshypothese besteht aus einem Invariantenkriterium\n",
    "\n",
    "$$\n",
    "\\left( \\frac1T -\\frac1C  \\right) \\left( \\sigma_1 + \\sigma_2 + \\sigma_3 \\right) + \\frac{1}{2TC}  \\left( \\left( \\sigma_1 - \\sigma_2  \\right)^2 +\n",
    "        \t\\left( \\sigma_2 - \\sigma_3  \\right)^2 +\n",
    "        \t\\left( \\sigma_3 - \\sigma_1  \\right)^2  \\right) - 1 = 0\n",
    "$$\n",
    "\n",
    "und einem Bruchkriterium\n",
    "\n",
    "$$\n",
    "\\max \\sigma_i < T \\text{ für } \\frac{T}{C} < \\frac12.\n",
    "$$"
   ]
  },
  {
   "cell_type": "code",
   "execution_count": null,
   "id": "de12f730",
   "metadata": {},
   "outputs": [],
   "source": [
    "import numpy as np\n",
    "import matplotlib.pyplot as plt"
   ]
  },
  {
   "cell_type": "markdown",
   "id": "0160bd28",
   "metadata": {},
   "source": [
    "## Aufgabe 6.1 Hauptspannungen ermitteln\n",
    "\n",
    "Erstellen Sie eine Funktion, die für einen gegebenen Spannungstensor die Hauptspannungen als Liste zurückgibt und testen Sie die Funktion mit den 3 gegebenen Beispielspannungstensoren"
   ]
  },
  {
   "cell_type": "code",
   "execution_count": null,
   "id": "57799d8a",
   "metadata": {},
   "outputs": [],
   "source": [
    "# Beispielspannungstensoren\n",
    "# Spannungstensor 1\n",
    "sigma1 = np.array([[40, 0, 30],\n",
    "                   [0, 0, 0],\n",
    "                   [30, 0, 120]])\n",
    "\n",
    "# Spannungstensor 2\n",
    "sigma2 = np.array([[70, 70, 60],\n",
    "                   [70, 75.5, 70],\n",
    "                   [60, 70, 70]])\n",
    "\n",
    "# Spannungstensor 3\n",
    "sigma3 = np.array([[50, 30, 0],\n",
    "                   [30, 0, 120],\n",
    "                   [0, 120, 20]])"
   ]
  },
  {
   "cell_type": "code",
   "execution_count": null,
   "id": "eb678f2c",
   "metadata": {},
   "outputs": [],
   "source": [
    "def calc_hauptspannungen(sigma):\n"
   ]
  },
  {
   "cell_type": "markdown",
   "id": "d364d7b9",
   "metadata": {},
   "source": [
    "## Aufgabe 6.2: von Mises Vergleichsspannung\n",
    "\n",
    "Erstellen Sie eine Funktion, die für einen beliebigen Spannungstensor die von Mises Vergleichsspannung ermittelt und ermitteln Sie die von Mises Vergleichsspannungen für die 3 oben gegebenen Beispielspannungstensoren."
   ]
  },
  {
   "cell_type": "code",
   "execution_count": null,
   "id": "bbb151d2",
   "metadata": {},
   "outputs": [],
   "source": [
    "def calc_vonMises(sigma):\n"
   ]
  },
  {
   "cell_type": "code",
   "execution_count": null,
   "id": "523fd217",
   "metadata": {},
   "outputs": [],
   "source": [
    "vm1 = calc_vonMises(sigma1)\n",
    "vm2 = calc_vonMises(sigma2)\n",
    "vm3 = calc_vonMises(sigma3)\n",
    "print(\"von Mises Spannung für Spannungstensor 1:\", vm1)\n",
    "print(\"von Mises Spannung für Spannungstensor 2:\", vm2)\n",
    "print(\"von Mises Spannung für Spannungstensor 3:\", vm3)"
   ]
  },
  {
   "cell_type": "markdown",
   "id": "440bd6c7",
   "metadata": {},
   "source": [
    "## Aufgabe 6.3 Darstellen der Christensen Versagenshypothese\n",
    "\n",
    "a) Erstellen Sie ein Diagramm, in dem die Christensen Versagenshypothese für ebene Spannungszustände für verschiedene T/C-Verhältnisse dargestellt wird. Für eine bessere Vergleichbarkeit ist die Zugfestigkeit dabei konstant.\n",
    "\n",
    "b) Warum ergeben sich in a) Ellipsen, wenn das Kriterium vom Lode-Winkel unabhängig\n",
    "ist und einen Kreis auf der π-Ebene darstellt?\n",
    "\n",
    "c) Zeigen Sie visuell, dass das Bruchkriterium für $\\frac{T}{C} = \\frac{1}{2}$ tangential auf dem Invariantenkriterium liegt."
   ]
  },
  {
   "cell_type": "markdown",
   "id": "f8fe3f92",
   "metadata": {},
   "source": [
    "### a) "
   ]
  },
  {
   "cell_type": "code",
   "execution_count": null,
   "id": "2777eef4",
   "metadata": {},
   "outputs": [],
   "source": [
    "T = 1\n",
    "C_list = [1, 4/3, 2, 10/3, 10]\n",
    "\n",
    "x = np.linspace(-7, 2.1, 1000)\n",
    "y = x\n",
    "X, Y = np.meshgrid(x, y)"
   ]
  },
  {
   "cell_type": "code",
   "execution_count": null,
   "id": "30957164",
   "metadata": {},
   "outputs": [],
   "source": [
    "for i in range(len(C_list)):\n",
    "    C = C_list[i]\n",
    "    # TODO: Berechnung des Invarianten Kriteriums\n",
    "    plt.contour(X, Y, F, levels=[0])\n",
    "\n",
    "    \n",
    "plt.xlim(-5, 2)\n",
    "plt.ylim(-5, 2)\n",
    "plt.xlabel(r'$\\sigma_1$')\n",
    "plt.ylabel(r'$\\sigma_2$')\n",
    "plt.grid()\n",
    "plt.title(r'Invarianten Kriterium für verschiedene T/C-Verhältnisse')\n",
    "plt.gca().set_aspect('equal', adjustable='box')\n",
    "plt.show()"
   ]
  },
  {
   "cell_type": "markdown",
   "id": "633f0ab7",
   "metadata": {},
   "source": [
    "### b)\n",
    "\n"
   ]
  },
  {
   "cell_type": "markdown",
   "id": "aaba96de",
   "metadata": {},
   "source": [
    "### c)"
   ]
  },
  {
   "cell_type": "code",
   "execution_count": null,
   "id": "25b0b358",
   "metadata": {},
   "outputs": [],
   "source": []
  },
  {
   "cell_type": "markdown",
   "id": "57cfc2ae",
   "metadata": {},
   "source": [
    "## Aufgabe 6.4: Auswertung des Christensen Kriteriums\n",
    "\n",
    "a) Werten Sie die drei gegebenen Spannungszustände wahlweise analytisch oder visuell für einen Werkstoff mit einer Zugfestigkeit von 170 MPa und einer Druckfestigkeit von 230 MPa aus.\n",
    "\n",
    "b) Berechnen Sie für den hydrostatischen Spannungszustand $( \\sigma_1 = \\sigma_2 = \\sigma_3 = \\sigma^0)$ die kritische Spannung $\\sigma^0_{c}$ nach der Christensen Versagenshypothese sowohl für $T/C = 1$ als auch für $T/C = \\frac{3}{4}$ versagt:\n",
    "\n",
    "c) Berechnen Sie für den equibiaxialen Zugzustand $( \\sigma_1 = \\sigma_2 = \\sigma^0,   \\sigma_3 = 0 )$ die kritische Spannung $\\sigma^0_{c}$ nach der Christensen Versagenshypothese sowohl für $T/C = 1$ als auch für $T/C = \\frac{3}{4}$ versagt:"
   ]
  },
  {
   "cell_type": "markdown",
   "id": "250eec93",
   "metadata": {},
   "source": [
    "### a) \n",
    "\n"
   ]
  },
  {
   "cell_type": "markdown",
   "id": "c26d7d25",
   "metadata": {},
   "source": [
    "### b)"
   ]
  },
  {
   "cell_type": "markdown",
   "id": "89dad248",
   "metadata": {},
   "source": [
    "### c)"
   ]
  }
 ],
 "metadata": {
  "kernelspec": {
   "display_name": "Python 3",
   "language": "python",
   "name": "python3"
  },
  "language_info": {
   "codemirror_mode": {
    "name": "ipython",
    "version": 3
   },
   "file_extension": ".py",
   "mimetype": "text/x-python",
   "name": "python",
   "nbconvert_exporter": "python",
   "pygments_lexer": "ipython3",
   "version": "3.13.1"
  }
 },
 "nbformat": 4,
 "nbformat_minor": 5
}
