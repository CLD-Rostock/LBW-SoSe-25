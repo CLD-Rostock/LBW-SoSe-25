{
 "cells": [
  {
   "cell_type": "markdown",
   "metadata": {},
   "source": [
    "# Übung 11\n",
    "## Laminatanalyse - Teil 2\n",
    "\n"
   ]
  },
  {
   "cell_type": "markdown",
   "metadata": {},
   "source": [
    "In den letzten Vorlesung wurde ein analytisches Ersatzmodel, sowie verschiedene Versagenskriterien für Laminate vorgestellt.\n",
    "Eingangsgrößen in das Model waren sowohl die geometrischen Größen, wie der Laminataufbau inklusive der Höhe der Einzelschichten, elastische Werkstoffkenngrößen und Festigkeiten, sowie die Beanspruchungen (also die äußeren Lasten).\n",
    "\n",
    "Aufbauen auf der letzten Übung wollen wir dieses analytische Model weiter in Python umsetzen, um so am Ende in der Lage zu sein, mit wenig Zeilen Code das komplexe Laminatverhalten zu modelieren und ein potentielles Versagen zu analysieren."
   ]
  },
  {
   "cell_type": "markdown",
   "metadata": {},
   "source": [
    "### Import der notwendigen Pakete\n",
    "\n",
    "bitte diese Zelle zu Beginn ausführen"
   ]
  },
  {
   "cell_type": "code",
   "execution_count": null,
   "metadata": {
    "execution": {
     "iopub.execute_input": "2023-07-07T07:06:41.779056Z",
     "iopub.status.busy": "2023-07-07T07:06:41.778643Z",
     "iopub.status.idle": "2023-07-07T07:06:41.817573Z",
     "shell.execute_reply": "2023-07-07T07:06:41.816663Z",
     "shell.execute_reply.started": "2023-07-07T07:06:41.779020Z"
    },
    "trusted": true
   },
   "outputs": [],
   "source": [
    "import numpy as np\n",
    "np.set_printoptions(linewidth=180)\n",
    "import math\n",
    "import matplotlib.pyplot as plt"
   ]
  },
  {
   "cell_type": "markdown",
   "metadata": {},
   "source": [
    "### Aufgabe 10.1\n",
    "\n",
    "Gegeben seien folgende Matrizen $Q_A$ und $Q_B$ . Vervollständigen Sie die nachfolgende Funktion für die Winkeltransformation von $Q$ \\-Matrizen. Definieren Sie sich dabei behilfsweise die Variablen $c$ und $s$. Achten Sie darauf, dass die Funktion $\\theta$ als Eingabe in Grad gegeben wird.\n",
    "\n",
    "Testen Sie die das Ergebnis durch Transformation um 90°, 180° und 360°.\n",
    "\n",
    "<u>Hinweise:</u>\n",
    "\n",
    "$T(\\vartheta) = \\left[ \\begin{array}{rrr}\n",
    "c^2 & s^2 & 2cs \\\\ \n",
    "s^2 & c^2 & -2cs \\\\\n",
    "-cs & cs & c^2-s^2 \\\\ \n",
    "\\end{array}\\right]$\n",
    "\n",
    "$\\bar{Q} = T^{-1}Q T^{-T}$\n",
    "\n",
    "Dies kann mit *numpy*-Befehlen entweder als\n",
    "\n",
    "_np.dot(np.dot(T_inv, Q), T_Tinv)_ oder als\n",
    "\n",
    "_np.linalg.multi_dot([T_inv, Q, T_Tinv])_ geschrieben werden."
   ]
  },
  {
   "cell_type": "code",
   "execution_count": null,
   "metadata": {
    "collapsed": false,
    "execution": {
     "iopub.execute_input": "2023-07-07T07:06:41.820296Z",
     "iopub.status.busy": "2023-07-07T07:06:41.819537Z",
     "iopub.status.idle": "2023-07-07T07:06:41.826844Z",
     "shell.execute_reply": "2023-07-07T07:06:41.825610Z",
     "shell.execute_reply.started": "2023-07-07T07:06:41.820254Z"
    },
    "jupyter": {
     "outputs_hidden": false
    },
    "trusted": true
   },
   "outputs": [],
   "source": [
    "Q_A = np.array([[118831., 2112., 0. ],\n",
    "               [2112, 7681, 0. ],\n",
    "               [0., 0., 3280]])\n",
    "\n",
    "Q_B = np.array([[79150., 26911., 0. ],\n",
    "               [26911., 79150., 0. ],\n",
    "               [0., 0., 26119.]])"
   ]
  },
  {
   "cell_type": "code",
   "execution_count": null,
   "metadata": {
    "collapsed": false,
    "execution": {
     "iopub.execute_input": "2023-07-07T07:06:41.829526Z",
     "iopub.status.busy": "2023-07-07T07:06:41.828251Z",
     "iopub.status.idle": "2023-07-07T07:06:41.844709Z",
     "shell.execute_reply": "2023-07-07T07:06:41.843419Z",
     "shell.execute_reply.started": "2023-07-07T07:06:41.829458Z"
    },
    "jupyter": {
     "outputs_hidden": false
    },
    "trusted": true
   },
   "outputs": [],
   "source": [
    "def Q_transform(Q, theta):\n",
    "    theta = theta * math.pi / 180\n",
    "    c = math.cos(theta)\n",
    "    s = math.sin(theta)\n",
    "    T = np.zeros((3,3)) # leere Matrix vordefinieren\n",
    "    T = [[c**2, s**2, 2*c*s],\n",
    "        [s**2, c**2, -2*c*s],\n",
    "        [-c*s, c*s, c**2-s**2]]\n",
    "    T_inv = np.linalg.inv(T)\n",
    "    T_Tinv = np.linalg.inv(np.transpose(T))\n",
    "    Q_bar = np.dot(np.dot(T_inv,Q),T_Tinv)\n",
    "    return Q_bar"
   ]
  },
  {
   "cell_type": "code",
   "execution_count": null,
   "metadata": {
    "execution": {
     "iopub.execute_input": "2023-07-07T07:06:41.848316Z",
     "iopub.status.busy": "2023-07-07T07:06:41.847847Z",
     "iopub.status.idle": "2023-07-07T07:06:41.872572Z",
     "shell.execute_reply": "2023-07-07T07:06:41.871214Z",
     "shell.execute_reply.started": "2023-07-07T07:06:41.848271Z"
    },
    "trusted": true
   },
   "outputs": [],
   "source": [
    "print(np.around(Q_transform(Q_A, 0), decimals=2))\n",
    "print(np.around(Q_transform(Q_A, 90), decimals=2))\n",
    "print(np.around(Q_transform(Q_A, 180), decimals=2))\n",
    "print(np.around(Q_transform(Q_A, 360), decimals=2))\n",
    "\n",
    "print('\\n')\n",
    "\n",
    "print(np.around(Q_transform(Q_B, 0), decimals=2))\n",
    "print(np.around(Q_transform(Q_B, 90), decimals=2))\n",
    "print(np.around(Q_transform(Q_B, 180), decimals=2))\n",
    "print(np.around(Q_transform(Q_B, 360), decimals=2))"
   ]
  },
  {
   "cell_type": "markdown",
   "metadata": {},
   "source": [
    "### Aufgabe 10.2\n",
    "\n",
    "Erstellen Sie mithilfe von matplotlib für die Matrizen $Q_A$  und $Q_B$  jeweils Polarplots von den Einträgen $\\bar{Q}_{11}$ ,$\\bar{Q}_{22}$  und $\\bar{Q}_{12}$ und diskutieren Sie diese.\n",
    "\n",
    "An den Codezellen muss nichts geändert werden, sie müssen lediglich ausgeführt werden.\n"
   ]
  },
  {
   "cell_type": "code",
   "execution_count": null,
   "metadata": {
    "collapsed": false,
    "execution": {
     "iopub.execute_input": "2023-07-07T07:06:41.875250Z",
     "iopub.status.busy": "2023-07-07T07:06:41.874781Z",
     "iopub.status.idle": "2023-07-07T07:06:43.081842Z",
     "shell.execute_reply": "2023-07-07T07:06:43.081002Z",
     "shell.execute_reply.started": "2023-07-07T07:06:41.875195Z"
    },
    "jupyter": {
     "outputs_hidden": false
    },
    "trusted": true
   },
   "outputs": [],
   "source": [
    "theta_liste_grad = np.arange(0, 360, 0.1)\n",
    "theta_liste_rad = theta_liste_grad /180 * np.pi\n",
    "\n",
    "Q_11 = []\n",
    "for val in theta_liste_grad:\n",
    "    Q_11.append(Q_transform(Q_A, val)[0][0])\n",
    "Q_22 = []\n",
    "for val in theta_liste_grad:\n",
    "    Q_22.append(Q_transform(Q_A, val)[1][1])\n",
    "Q_12 = []\n",
    "for val in theta_liste_grad:\n",
    "    Q_12.append(Q_transform(Q_A, val)[0][1])\n",
    "\n",
    "fig, ax = plt.subplots(subplot_kw={'projection': 'polar'})\n",
    "ax.plot(theta_liste_rad, Q_11, label='Q_11')\n",
    "ax.plot(theta_liste_rad, Q_22, label='Q_22')\n",
    "ax.plot(theta_liste_rad, Q_12, label='Q_12')\n",
    "ax.legend()\n",
    "ax.set_rlabel_position(-22.5)\n",
    "ax.grid(True)\n",
    "\n",
    "ax.set_title(\"Polarplot von Q_A\", va='bottom')\n",
    "plt.show()"
   ]
  },
  {
   "cell_type": "code",
   "execution_count": null,
   "metadata": {
    "collapsed": false,
    "execution": {
     "iopub.execute_input": "2023-07-07T07:06:43.083082Z",
     "iopub.status.busy": "2023-07-07T07:06:43.082773Z",
     "iopub.status.idle": "2023-07-07T07:06:44.693014Z",
     "shell.execute_reply": "2023-07-07T07:06:44.691306Z",
     "shell.execute_reply.started": "2023-07-07T07:06:43.083055Z"
    },
    "jupyter": {
     "outputs_hidden": false
    },
    "trusted": true
   },
   "outputs": [],
   "source": [
    "Q_11 = []\n",
    "for val in theta_liste_grad:\n",
    "    Q_11.append(Q_transform(Q_B, val)[0][0])\n",
    "Q_22 = []\n",
    "for val in theta_liste_grad:\n",
    "    Q_22.append(Q_transform(Q_B, val)[1][1])\n",
    "Q_12 = []\n",
    "for val in theta_liste_grad:\n",
    "    Q_12.append(Q_transform(Q_B, val)[0][1])\n",
    "\n",
    "fig, ax = plt.subplots(subplot_kw={'projection': 'polar'})\n",
    "ax.plot(theta_liste_rad, Q_11, label='Q_11')\n",
    "ax.plot(theta_liste_rad, Q_22, label='Q_22')\n",
    "ax.plot(theta_liste_rad, Q_12, label='Q_12')\n",
    "ax.legend()\n",
    "ax.set_rlabel_position(-22.5)\n",
    "ax.grid(True)\n",
    "\n",
    "ax.set_title(\"Polarplot von Q_B\", va='bottom')\n",
    "plt.show()"
   ]
  },
  {
   "cell_type": "markdown",
   "metadata": {},
   "source": [
    "### Aufgabe 10.3\n",
    "\n",
    "Gegeben sei die $Q$\\-Matrix für eine UD\\-Einzelschicht aus E\\-Glasfasern und Epoxidharz. \n",
    "\n",
    "Gegeben sei ein UD\\-Laminataufbau aus vier Schichten.\n",
    "\n",
    "Definieren Sie die folgenden Layups analog. Dabei sollen die Schichten immer aus 0,2 mm mit der gegebenen Q\\-Matrix für GFK bestehen.\n",
    "\n",
    "- L2: \\[45 / \\-45\\]\n",
    "- L3: \\[45 / \\-45\\]s\n",
    "- L4: \\[0 / 90 / 45 / \\-45\\]s\n",
    "\n"
   ]
  },
  {
   "cell_type": "code",
   "execution_count": null,
   "metadata": {
    "collapsed": false,
    "execution": {
     "iopub.execute_input": "2023-07-07T07:06:44.695963Z",
     "iopub.status.busy": "2023-07-07T07:06:44.695248Z",
     "iopub.status.idle": "2023-07-07T07:06:44.704762Z",
     "shell.execute_reply": "2023-07-07T07:06:44.702897Z",
     "shell.execute_reply.started": "2023-07-07T07:06:44.695908Z"
    },
    "jupyter": {
     "outputs_hidden": false
    },
    "trusted": true
   },
   "outputs": [],
   "source": [
    "Q_GFK_UD = np.array([[32101., 2689., 0.],\n",
    "                   [2689., 9022., 0.],\n",
    "                   [0., 0. , 3282.]])"
   ]
  },
  {
   "cell_type": "code",
   "execution_count": null,
   "metadata": {
    "collapsed": false,
    "execution": {
     "iopub.execute_input": "2023-07-07T07:06:44.708068Z",
     "iopub.status.busy": "2023-07-07T07:06:44.707428Z",
     "iopub.status.idle": "2023-07-07T07:06:44.721830Z",
     "shell.execute_reply": "2023-07-07T07:06:44.720836Z",
     "shell.execute_reply.started": "2023-07-07T07:06:44.708007Z"
    },
    "jupyter": {
     "outputs_hidden": false
    },
    "trusted": true
   },
   "outputs": [],
   "source": [
    "layup_1 = [{'Q':Q_GFK_UD,'t':0.2,'theta':0},\n",
    "          {'Q':Q_GFK_UD,'t':0.2,'theta':0},\n",
    "          {'Q':Q_GFK_UD,'t':0.2,'theta':0},\n",
    "          {'Q':Q_GFK_UD,'t':0.2,'theta':0},]\n",
    "\n",
    "layup_2 = [{'Q':Q_GFK_UD,'t':0.2,'theta':45},\n",
    "          {'Q':Q_GFK_UD,'t':0.2,'theta':-45},]\n",
    "\n",
    "layup_3 = [{'Q':Q_GFK_UD,'t':0.2,'theta':45},\n",
    "          {'Q':Q_GFK_UD,'t':0.2,'theta':-45},\n",
    "          {'Q':Q_GFK_UD,'t':0.2,'theta':-45},\n",
    "          {'Q':Q_GFK_UD,'t':0.2,'theta':45},]\n",
    "\n",
    "layup_4 = [{'Q':Q_GFK_UD,'t':0.2,'theta':0},\n",
    "          {'Q':Q_GFK_UD,'t':0.2,'theta':90},\n",
    "          {'Q':Q_GFK_UD,'t':0.2,'theta':45},\n",
    "          {'Q':Q_GFK_UD,'t':0.2,'theta':-45},\n",
    "          {'Q':Q_GFK_UD,'t':0.2,'theta':-45},\n",
    "          {'Q':Q_GFK_UD,'t':0.2,'theta':45},\n",
    "          {'Q':Q_GFK_UD,'t':0.2,'theta':90},\n",
    "          {'Q':Q_GFK_UD,'t':0.2,'theta':0},]"
   ]
  },
  {
   "cell_type": "markdown",
   "metadata": {},
   "source": [
    "### Aufgabe 10.4\n",
    "\n",
    "Schauen Sie sich die folgende Klassendefinition für Laminatobjekte an. Ergänzen Sie die Berechnungen der ABD\\- sowie der invertierten ABD\\-Matrix.\n",
    "\n",
    "Ergänzen Sie eine klasseninterne Funktion \"add_lamina(Q, t, theta)\" mit der sich dem Layup eine weitere Schicht hinzufügen lässt.\n",
    "\n",
    "<u>Hinweise:</u> \n",
    "\n",
    "$A_{ij} = \\sum_{k_=1}^{N} (\\bar{Q}_{ij})_k (z_k - z_{k-1})$\n",
    "\n",
    "$B_{ij} = \\frac12 \\sum_{k_=1}^{N} (\\bar{Q}_{ij})_k (z_k^2 - z_{k-1}^2)$\n",
    "\n",
    "$D_{ij} = \\frac13 \\sum_{k_=1}^{N} (\\bar{Q}_{ij})_k (z_k^3 - z_{k-1}^3)$"
   ]
  },
  {
   "cell_type": "code",
   "execution_count": null,
   "metadata": {
    "collapsed": false,
    "execution": {
     "iopub.execute_input": "2023-07-07T07:06:44.725647Z",
     "iopub.status.busy": "2023-07-07T07:06:44.724992Z",
     "iopub.status.idle": "2023-07-07T07:06:44.739898Z",
     "shell.execute_reply": "2023-07-07T07:06:44.738639Z",
     "shell.execute_reply.started": "2023-07-07T07:06:44.725612Z"
    },
    "jupyter": {
     "outputs_hidden": false
    },
    "trusted": true
   },
   "outputs": [],
   "source": [
    "# Musterlösung:\n",
    "\n",
    "class laminate:\n",
    "\n",
    "    # Initiierung eines laminate-Objektes\n",
    "\n",
    "    def __init__(self, layup):\n",
    "        self.layup = layup\n",
    "        self.ABD = np.zeros((6,6))\n",
    "        self.ABD_inv = np.zeros((6,6))\n",
    "        self.t = 0.\n",
    "\n",
    "    # Methode zum Berechnen der Laminatdicke\n",
    "\n",
    "    def calc_t(self):\n",
    "        self.t = 0\n",
    "        for n in range(len(self.layup)):\n",
    "            self.t = self.t + self.layup[n]['t']\n",
    "\n",
    "    # Methode zum Berechnen der ABD-Matrix des Laminates\n",
    "\n",
    "    def calc_ABD(self):\n",
    "        A = np.zeros((3,3))\n",
    "        B = np.zeros((3,3))\n",
    "        D = np.zeros((3,3))\n",
    "        self.calc_t()\n",
    "        z_u = -self.t/2 # untere z-Koordinate der untersten Lage\n",
    "        \n",
    "        for k in range(len(self.layup)):\n",
    "            Q_bar = Q_transform(self.layup[k]['Q'],self.layup[k]['theta'])\n",
    "            \n",
    "            z_o = z_u+self.layup[k]['t']\n",
    "\n",
    "            A_k = Q_bar*(z_o-z_u)\n",
    "            A = A+A_k\n",
    "\n",
    "            B_k = 1/2*Q_bar*(z_o**2-z_u**2)\n",
    "            B = B+B_k\n",
    "\n",
    "            D_k = 1/3*Q_bar*(z_o**3-z_u**3)\n",
    "            D = D+D_k\n",
    "            \n",
    "            z_u = z_o # vorbereitend für nächste Lage wird aktuell obere z-Koordinate als neue untere festgelegt\n",
    "\n",
    "        AB = np.append(A, B, axis=0) #führt Matrizen vertikal zusammen\n",
    "        BD = np.append(B, D, axis=0) #führt Matrizen vertikal zusammen\n",
    "        ABD = np.append(AB, BD, axis=1) #führt Matrizen horizontal zusammen\n",
    "        self.ABD = ABD\n",
    "        self.ABD_inv = np.linalg.inv(self.ABD)\n",
    "\n",
    "    def add_lamina(Q, t, theta=0):\n",
    "        self.layup = self.layup + [{'Q':Q, 't':t, 'theta': theta}]\n"
   ]
  },
  {
   "cell_type": "markdown",
   "metadata": {},
   "source": [
    "### Aufgabe 10.5\n",
    "\n",
    "Instanzieren Sie vier Laminate mit den gegebenen UD\\-Aufbauten\n",
    "\n",
    "Berechnen Sie und geben Sie jeweils die ABD\\-Matrix der Laminate aus. Diskutieren Sie diese."
   ]
  },
  {
   "cell_type": "code",
   "execution_count": null,
   "metadata": {
    "collapsed": false,
    "execution": {
     "iopub.execute_input": "2023-07-07T07:06:44.742547Z",
     "iopub.status.busy": "2023-07-07T07:06:44.742092Z",
     "iopub.status.idle": "2023-07-07T07:06:44.782951Z",
     "shell.execute_reply": "2023-07-07T07:06:44.781034Z",
     "shell.execute_reply.started": "2023-07-07T07:06:44.742429Z"
    },
    "jupyter": {
     "outputs_hidden": false
    },
    "trusted": true
   },
   "outputs": [],
   "source": [
    "# Musterlösung\n",
    "\n",
    "lam_1 = laminate(layup_1)\n",
    "lam_1.calc_ABD()\n",
    "print(f'Laminat 1 :\\n{np.around(lam_1.ABD, decimals=2)}')\n",
    "\n",
    "lam_2 = laminate(layup_2)\n",
    "lam_2.calc_ABD()\n",
    "print(f'Laminat 2 :\\n{np.around(lam_2.ABD, decimals=2)}')\n",
    "\n",
    "lam_3 = laminate(layup_3)\n",
    "lam_3.calc_ABD()\n",
    "print(f'Laminat 3 :\\n{np.around(lam_3.ABD, decimals=2)}')\n",
    "\n",
    "lam_4 = laminate(layup_4)\n",
    "lam_4.calc_ABD()\n",
    "print(f'Laminat 4 :\\n{np.around(lam_4.ABD, decimals=2)}')"
   ]
  },
  {
   "cell_type": "markdown",
   "metadata": {},
   "source": [
    "### Aufgabe 11.1\n",
    "\n",
    "Im Skript wird in Kapitel 7.2.4 die schriftweise Vorgehensweise für Laminatanalysen von den Kenngrößen der Einzelschichten bis zur Ermittlung der lokalen Spannungen in den Einzelschichten beschrieben:\n",
    "\n",
    "1. Die Elastizitätskenngrößen der unidirektionalen Einzelschicht sind zu bestimmen. Es werden die Größen $E_1$, $E_2$, $\\nu_{12}$ und $G_{12}$ benötigt.\n",
    "2. Von jeder Einzelschicht wird die Matrix der reduzierten Steifigkeiten bestimmt: $Q$ .\n",
    "3. Unter Nutzung der Faserwinkel der Einzelschichten werden die reduzierte Steifigkeiten aller Einzelschichten in das gemeinsame globale Laminat\\-Koordinatensystem transformiert: ${ \\bar Q}$.\n",
    "4. Mit den Schichtdicken erfolgt die Integration der Einzelschichtsteifigkeiten zur ABD\\-Matrix des Konstitutivgesetzes des Gesamtlaminats.\n",
    "5. Das Konstitutivgesetzes wird invertiert und die Laminatnachgiebigkeitsmatrix  bestimmt. \n",
    "6. \\(Im Falle hygrothermaler Lasten müssen noch hygrothermische Lasten bestimmt werden.\\)\n",
    "7. Das Konstitutivgesetzes wird nun mit den gegebenen Lasten nach den Laminatverzerrungen und \\-krümmungen gelöst.\n",
    "8. Die Verzerrungen jeder Schicht werden bestimmt.\n",
    "9. Mit dem reduzierten Elastizitätsgesetz der Einzelschicht werden die Spannungen in jeder Schicht bestimmt.\n",
    "10. Transformation der Schichtspannungen auf das lokale 1\\-2\\-Koordinaten der jeweiligen Schicht.\n",
    "\n",
    "Mit den erlernten Pythonkenntnissen und den Veranstaltungsunterlagen sollen Sie diese Schritte nun für ein Laminat durchführen. Dieser Laminataufbau sei mit \\[0 /60 /\\-60\\] aus CFK\\-Lagen mit $E_1 = 118250\\,\\mathrm{MPa}$, $E_2 = 7644\\,\\mathrm{MPa}$, $\\nu_{12} = 0,275$ und $G_{12} = 3280\\,\\mathrm{MPa}$ und einer Dicke von jeweils $t=0,3\\,\\mathrm{mm}$  gegeben. Ermitteln Sie die lokalen Schichtspannungen wenn auf das Laminat global folgende Lasten $N_x = 50\\,\\mathrm{N/m}$ und $M_y = 20\\,\\mathrm{N}$ einwirken. Es gibt dabei keine hygrothermalen Lasten.\n",
    "\n"
   ]
  },
  {
   "cell_type": "markdown",
   "metadata": {},
   "source": [
    "Schritt 1: Die Elastizitätskenngrößen der unidirektionalen Einzelschicht sind zu bestimmen. Es werden die Größen $E_1$, $E_2$, $\\nu_{12}$ und $G_{12}$ benötigt."
   ]
  },
  {
   "cell_type": "code",
   "execution_count": null,
   "metadata": {},
   "outputs": [],
   "source": []
  },
  {
   "cell_type": "markdown",
   "metadata": {},
   "source": [
    "Schritt 2: Von jeder Einzelschicht wird die Matrix der reduzierten Steifigkeiten bestimmt: $Q$ .\n",
    "\n",
    "<u>Hinweise:</u> \n",
    "\n",
    "Erstellen Sie eine Klasse für Lamina (Einzelschicht) mit den Eingangsgrößen E1, E2, nu12 und G12. Sie soll als weitere eigene Attribute nu21, S_red und Q haben. Definieren Sie interne Funktionen, mithilfe derer die Einzelschicht nu21, S_red und Q ermitteln kann.\n",
    "\n",
    "Mithilfe dieser Klasse lassen sich nun einfach neue und andere Schichten (als die bislang verwendete GFK-UD-Schicht, deren Q-Matrix gegeben war) ermitteln. \n",
    "\n",
    "Anschließend kann ein Layup ähnlich wie in Aufgabe 10.3 definiert werden, mit dem Unterschied, dass der Eintrag für die Q-Matrix als Attribut des Lamina-Objektes erfolgt. Was vorher mit \n",
    "\n",
    "{'Q':Q_GFK_UD,'t':0.2,'theta':0} angegeben wurde, wäre für ein Lamina-Objekt mit Namen \"GFK_UD\" dann beispielsweise\n",
    "\n",
    "{'Q':GFK_UD.Q,'t':0.2,'theta':0}.\n",
    "\n",
    "$S_\\text{red} = \\left[ \\begin{array}{rrr}\n",
    "\\frac{1}{E_1} & -\\frac{\\nu_{21}}{E_2} & 0 \\\\ \n",
    "-\\frac{\\nu_{12}}{E_1} & \\frac{1}{E_2} & 0 \\\\\n",
    "0 & 0 & \\frac{1}{G_{12}} \\\\ \n",
    "\\end{array}\\right]$\n",
    "\n",
    "$Q = S_\\text{red}^{-1}$"
   ]
  },
  {
   "cell_type": "code",
   "execution_count": null,
   "metadata": {},
   "outputs": [],
   "source": [
    "# Klassendefinition für Einzelschichtobjekte\n",
    "class lamina:\n",
    "\n",
    "    def __init__("
   ]
  },
  {
   "cell_type": "markdown",
   "metadata": {},
   "source": [
    "Schritt 3: Unter Nutzung der Faserwinkel der Einzelschichten werden die reduzierte Steifigkeiten aller Einzelschichten in das gemeinsame globale Laminat\\-Koordinatensystem transformiert: ${ \\bar Q}$.\n",
    "\n",
    "Schritt 4: Mit den Schichtdicken erfolgt die Integration der Einzelschichtsteifigkeiten zur ABD\\-Matrix des Konstitutivgesetzes des Gesamtlaminats.\n",
    "\n",
    "Schritt 5: Das Konstitutivgesetzes wird invertiert und die Laminatnachgiebigkeitsmatrix  bestimmt. \n",
    "\n",
    "<u>Hinweis:</u> \n",
    "\n",
    "Hier können die zuvor definierten Funktionen und Klassen verwendet werden. \n",
    "\n",
    "Das Transformieren der Q-Matrizen, die Berechnung der ABD-Matrix sowie die Invertierung dieser sollte alles innerhalb der Funktion 'calc_ABD' der Klasse 'laminate' passieren. Zum Ausführen dieser drei Schritte muss also lediglich ein Laminatobjekt instanziert und für dieses die Funktion 'calc_ABD' aufgerufen werden.\n"
   ]
  },
  {
   "cell_type": "code",
   "execution_count": null,
   "metadata": {},
   "outputs": [],
   "source": []
  },
  {
   "cell_type": "markdown",
   "metadata": {},
   "source": [
    "Schritt 6 entfällt: \\(Im Falle hygrothermaler Lasten müssten diese bestimmt werden.\\)\n"
   ]
  },
  {
   "cell_type": "markdown",
   "metadata": {},
   "source": [
    "Schritt 7: Das Konstitutivgesetzes wird nun mit den gegebenen Lasten nach den Laminatverzerrungen und \\-krümmungen gelöst.\n",
    "\n",
    "<u>Hinweis:</u>\n",
    "\n",
    "Es ist ein Vektor mit den Laminatlasten zu definieren (und ggf. zu transponieren) und ein Matrixprodukt mit der invertierten ABD-Matrix zu bilden (z.B. mit 'np.dot')\n",
    "\n",
    "$\\left[ \\begin{array}{r}\n",
    "\\varepsilon^0\\\\ \n",
    "\\kappa\\\\\n",
    "\\end{array}\\right] = \n",
    "\\left[ \\begin{array}{rr}\n",
    "A & B\\\\ \n",
    "B & D\\\\\n",
    "\\end{array}\\right]^{-1}\n",
    "\\left[ \\begin{array}{r}\n",
    "N\\\\ \n",
    "M\\\\\n",
    "\\end{array}\\right]$"
   ]
  },
  {
   "cell_type": "code",
   "execution_count": null,
   "metadata": {},
   "outputs": [],
   "source": []
  },
  {
   "cell_type": "markdown",
   "metadata": {},
   "source": [
    "Schritt 8: Die Verzerrungen jeder Schicht werden bestimmt.\n",
    "\n",
    "Schritt 9: Mit dem reduzierten Elastizitätsgesetz der Einzelschicht werden die Spannungen in jeder Schicht bestimmt.\n",
    "\n",
    "<u>Hinweise:</u>\n",
    "\n",
    "Mit der nachfolgenden Formel können die globalen Spannungen in den Einzelschichten berechnet werden. Hier bietet sich eine Schleife an.\n",
    "\n",
    "$\\left[ \\begin{array}{r}\n",
    "\\sigma_{xx}\\\\ \n",
    "\\sigma_{yy}\\\\\n",
    "\\tau_{xy}\\\\\n",
    "\\end{array}\\right]_k = \n",
    "\\left[ \\begin{array}{rrr}\n",
    "\\bar{Q}_{11} & \\bar{Q}_{12} & \\bar{Q}_{16}\\\\ \n",
    "\\bar{Q}_{12} & \\bar{Q}_{22} & \\bar{Q}_{26}\\\\\n",
    "\\bar{Q}_{16} & \\bar{Q}_{26} & \\bar{Q}_{66}\\\\\n",
    "\\end{array}\\right]_k\n",
    "\\left(\n",
    "\\left[ \\begin{array}{r}\n",
    "\\varepsilon_{xx}^0\\\\ \n",
    "\\varepsilon_{yy}^0\\\\\n",
    "\\gamma_{xy}^0\\\\\n",
    "\\end{array}\\right] +z\n",
    "\\left[ \\begin{array}{r}\n",
    "\\kappa_{x}\\\\ \n",
    "\\kappa_{y}\\\\\n",
    "\\kappa_{xy}\\\\\n",
    "\\end{array}\\right]\\right)$\n",
    "\n",
    "Zu beachten ist, dass die Schichten einen von z-abhängigen $\\sigma$-Verlauf haben. In der Aufgabe genügt aber jeweils ein Mittelwert der Schichtspannungen."
   ]
  },
  {
   "cell_type": "code",
   "execution_count": null,
   "metadata": {},
   "outputs": [],
   "source": [
    "# Hier wird für jede Schicht idealisiert eine konstante Verzerrung und damit auch Spannung angenommen und errechnet. Diese Idealisierung \n",
    "# kann man bei sehr geringen Schichtdicken, sowie bei dominanter In-plane Belastung annehmen. Generell liegen aber ansonsten in den Schichten \n",
    "# über ihre Dicke lineare Verzerrungs- und Spannungsverläufe vor. Diese würde man erhalten, wenn man je Schicht nicht mit dem mittleren Wert \n",
    "# von z sondern fallunterschieden mit dem oberen und unteren z-Wert rechnen würde.\n",
    "\n"
   ]
  },
  {
   "cell_type": "markdown",
   "metadata": {},
   "source": [
    "Schritt 10: Transformation der Schichtspannungen auf das lokale 1\\-2\\-Koordinaten der jeweiligen Schicht.\n",
    "\n",
    "<u>Hinweis:</u> Definieren Sie sich eine Funktion \"Sigma_transform(Sigma, theta)\", die Spannungsvektoren von globalen Koordinaten (x,y) in lokale Koordinaten um einen Winkel theta in lokale Koordinaten der Einzelschichten (1,2) rotieren kann. Sie können hier große Teile der in Aufgabe L1.1 definierten Funktion \"Q_transform\" verwenden.\n",
    "\n",
    "$\\sigma' = T(\\vartheta) \\sigma$\n",
    "\n",
    "\n"
   ]
  },
  {
   "cell_type": "code",
   "execution_count": null,
   "metadata": {},
   "outputs": [],
   "source": [
    "# Hier darf nicht exakt die Transformationsfunktion für Q verwendet werden, da die Operation eine andere ist."
   ]
  },
  {
   "cell_type": "markdown",
   "metadata": {},
   "source": [
    "### Aufgabe 11.2\n",
    "\n",
    "Jetzt liegen der Spannungen in den jeweiligen lokalen Koordinatensystemen vor. Auf diese Spannungen können Versagenskriterien angewendet werden. An dieser Stelle begrenzen wir uns dabei auf das LaRC05 Kriterium.\n",
    "\n",
    "Um das Kriterium verwenden zu können, müssen zunächst die dafür notwendigen Versagenskennwerten definiert werden. Hierfür befindet sich eine Klassenstruktur in der folgenden Zelle. Erstellen Sie eine Instanz der Klasse larc05_mat für den Werkstoff IM7\\_8551\\_7 mit den Parametern \n",
    "\n",
    "$X_T = 2560 \\text{ MPa}$, $X_C = 1590$, $Y_T = 73\\text{ MPa}$, $Y_C= 185\\text{ MPa}$, $S_L = 90\\text{ MPa}$, $\\alpha_0 = 53°$, $\\eta_L = 0.082$.\n",
    "\n",
    "<u>Hinweise:</u>\n",
    "\n",
    "Der Winkel $\\alpha_0$ muss von Grad in Bogenmaß umgerechnet werden.\n",
    "\n",
    "$\\eta_T = -\\frac{1}{\\tan(2 \\alpha_0)}$\n",
    "\n",
    "$S_T = Y_C \\cos \\alpha_0 \\left( \\sin \\alpha_0 + \\frac{\\cos \\alpha_0}{\\tan(2 \\alpha_0)}\\right)$"
   ]
  },
  {
   "cell_type": "code",
   "execution_count": null,
   "metadata": {},
   "outputs": [],
   "source": [
    "class larc05_mat:\n",
    "    \n",
    "    def __init__(self, X_T, X_C, Y_T, Y_C, S_L, alpha_0, eta_L):\n",
    "        \n",
    "        self.X_T = X_T\n",
    "        self.X_C = X_C\n",
    "        self.Y_T = Y_T\n",
    "        self.Y_C = Y_C\n",
    "        self.S_L = S_L\n",
    "        self.alpha_0 = math.radians(alpha_0)\n",
    "        self.eta_L = eta_L\n",
    "        \n",
    "        self.eta_T = - 1 / (math.tan(2 * self.alpha_0))\n",
    "        \n",
    "        self.S_T = Y_C * math.cos(self.alpha_0) * (math.sin(self.alpha_0) + math.cos(self.alpha_0) / math.tan(2 * self.alpha_0))"
   ]
  },
  {
   "cell_type": "code",
   "execution_count": null,
   "metadata": {},
   "outputs": [],
   "source": []
  },
  {
   "cell_type": "markdown",
   "metadata": {},
   "source": [
    "### Aufgabe 11.3\n",
    "\n",
    "Implementieren Sie den Versagensindex des LaRC 05 Kriteriums für faserparallelen Zug.\n",
    "\n",
    "Eingabewerte für die Funktion sind die Spannungen des ebenen Spannungszustands $\\sigma_1, \\sigma_2, \\tau_{12}$ und ein Objekt der _larc05\\_mat_ Klasse, das die Versagenskennwerte enthält.\n",
    "\n",
    "Ausgabewert ist der Versagensindex $F_f^{tens}$\n",
    "\n",
    "Berechnen Sie die entsprechende Anstrengung für die in Aufgabe 11.1 errechneten Spannungen und interpretieren Sie diese.\n",
    "\n",
    "<u>Hinweise:</u>\n",
    "\n",
    "$F_f^{tens} = \\frac{\\sigma_{11}}{X_T}$"
   ]
  },
  {
   "cell_type": "code",
   "execution_count": null,
   "metadata": {},
   "outputs": [],
   "source": []
  },
  {
   "cell_type": "code",
   "execution_count": null,
   "metadata": {},
   "outputs": [],
   "source": []
  }
 ],
 "metadata": {
  "kaggle": {
   "accelerator": "none",
   "dataSources": [],
   "dockerImageVersionId": 30513,
   "isGpuEnabled": false,
   "isInternetEnabled": true,
   "language": "python",
   "sourceType": "notebook"
  },
  "kernelspec": {
   "display_name": "Python 3",
   "language": "python",
   "name": "python3"
  },
  "language_info": {
   "codemirror_mode": {
    "name": "ipython",
    "version": 3
   },
   "file_extension": ".py",
   "mimetype": "text/x-python",
   "name": "python",
   "nbconvert_exporter": "python",
   "pygments_lexer": "ipython3",
   "version": "3.13.1"
  }
 },
 "nbformat": 4,
 "nbformat_minor": 4
}
