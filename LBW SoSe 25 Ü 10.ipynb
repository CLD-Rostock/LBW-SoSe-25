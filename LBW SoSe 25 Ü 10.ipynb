{
 "cells": [
  {
   "cell_type": "markdown",
   "metadata": {},
   "source": [
    "# Übung 10 zur Vorlesung Leichtbauwerkstoffe\n",
    "## Laminatanalyse"
   ]
  },
  {
   "cell_type": "markdown",
   "metadata": {},
   "source": [
    "In der letzen und der folgenden Vorlesung wird ein analytisches Ersatzmodel für ein Laminat vorgestellt.\n",
    "Eingangsgrößen in das Model sind sowohl die geometrischen Größen, wie der Laminataufbau inklusive der Höhe der Einzelschichten, elastische Werkstoffkenngrößen und Festigkeiten, sowie die Beanspruchungen (also die äußeren Lasten).\n",
    "\n",
    "In diesen beiden Übungen wollen wir dieses analytische Model Stück für Stück in Python umsetzen, um so am Ende in der Lage zu sein, mit wenig Zeilen Code das komplexe Laminatverhalten zu modelieren."
   ]
  },
  {
   "cell_type": "markdown",
   "metadata": {},
   "source": [
    "### Importieren der notwendigen Pakete\n",
    "\n",
    "Bitte diese Zelle zu Beginn ausführen\n"
   ]
  },
  {
   "cell_type": "code",
   "execution_count": 1,
   "metadata": {
    "collapsed": false,
    "jupyter": {
     "outputs_hidden": false
    }
   },
   "outputs": [],
   "source": [
    "import numpy as np\n",
    "np.set_printoptions(linewidth=180)\n",
    "import math\n",
    "import matplotlib.pyplot as plt"
   ]
  },
  {
   "cell_type": "markdown",
   "metadata": {},
   "source": [
    "### Aufgabe 10.1\n",
    "\n",
    "Gegeben seien folgende Matrizen $Q_A$ und $Q_B$ . Vervollständigen Sie die nachfolgende Funktion für die Winkeltransformation von $Q$ \\-Matrizen. Definieren Sie sich dabei behilfsweise die Variablen $c$ und $s$. Achten Sie darauf, dass die Funktion $\\theta$ als Eingabe in Grad gegeben wird.\n",
    "\n",
    "Testen Sie die das Ergebnis durch Transformation um 90°, 180° und 360°.\n",
    "\n",
    "<u>Hinweise:</u>\n",
    "\n",
    "$T(\\vartheta) = \\left[ \\begin{array}{rrr}\n",
    "c^2 & s^2 & 2cs \\\\ \n",
    "s^2 & c^2 & -2cs \\\\\n",
    "-cs & cs & c^2-s^2 \\\\ \n",
    "\\end{array}\\right]$\n",
    "\n",
    "$\\bar{Q} = T^{-1}Q T^{-T}$\n",
    "\n",
    "Dies kann mit *numpy*-Befehlen entweder als\n",
    "\n",
    "np.dot(np.dot(T_inv, Q), T_Tinv) oder als\n",
    "\n",
    "np.linalg.multi_dot([T_inv, Q, T_Tinv]) geschrieben werden.\n"
   ]
  },
  {
   "cell_type": "code",
   "execution_count": null,
   "metadata": {
    "collapsed": false,
    "jupyter": {
     "outputs_hidden": false
    }
   },
   "outputs": [],
   "source": [
    "Q_A = np.array([[118831., 2112., 0. ],\n",
    "               [2112, 7681, 0. ],\n",
    "               [0., 0., 3280]])\n",
    "\n",
    "Q_B = np.array([[79150., 26911., 0. ],\n",
    "               [26911., 79150., 0. ],\n",
    "               [0., 0., 26119.]])"
   ]
  },
  {
   "cell_type": "code",
   "execution_count": null,
   "metadata": {
    "collapsed": false,
    "jupyter": {
     "outputs_hidden": false
    }
   },
   "outputs": [],
   "source": [
    "def Q_transform(Q, theta):\n",
    "    theta = # Theta wird als Grad übergeben, muss zur Weiterverarbeitung aber in Rad umgerechtet werden\n",
    "    c = \n",
    "    s = \n",
    "    T = \n",
    "    T_inv = \n",
    "    T_Tinv = \n",
    "    Q_bar = \n",
    "    return Q_bar"
   ]
  },
  {
   "cell_type": "code",
   "execution_count": null,
   "metadata": {
    "trusted": true
   },
   "outputs": [],
   "source": [
    "print(np.around(Q_transform(... , ...), decimals=2)) # Mit diesem Befehl kann eine Ausgabe der transformierten Matrizen in vereinheitlichter Darstellung mit höchstens zwei Nachkommastellen erfolgen."
   ]
  },
  {
   "cell_type": "markdown",
   "metadata": {},
   "source": [
    "### Aufgabe 10.2\n",
    "\n",
    "Erstellen Sie mithilfe von matplotlib für die Matrizen $Q_A$  und $Q_B$  jeweils Polarplots von den Einträgen $\\bar{Q}_{11}$ ,$\\bar{Q}_{22}$  und $\\bar{Q}_{12}$ und diskutieren Sie diese.\n",
    "\n",
    "An den Codezellen muss nichts geändert werden, sie müssen lediglich ausgeführt werden.\n"
   ]
  },
  {
   "cell_type": "code",
   "execution_count": null,
   "metadata": {
    "collapsed": false,
    "jupyter": {
     "outputs_hidden": false
    }
   },
   "outputs": [],
   "source": [
    "theta_liste_grad = np.arange(0, 360, 0.1) # np.arrange erstellt hier eine Liste von Werten von 0 bis 360 mit einer Schrittweite von 0,1\n",
    "theta_liste_rad = theta_liste_grad /180 * np.pi\n",
    "\n",
    "Q_11 = []\n",
    "for val in theta_liste_grad:\n",
    "    Q_11.append(Q_transform(Q_A, val)[0][0])\n",
    "Q_22 = []\n",
    "for val in theta_liste_grad:\n",
    "    Q_22.append(Q_transform(Q_A, val)[1][1])\n",
    "Q_12 = []\n",
    "for val in theta_liste_grad:\n",
    "    Q_12.append(Q_transform(Q_A, val)[0][1])\n",
    "\n",
    "fig, ax = plt.subplots(subplot_kw={'projection': 'polar'})\n",
    "ax.plot(theta_liste_rad, Q_11, label='Q_11')\n",
    "ax.plot(theta_liste_rad, Q_22, label='Q_22')\n",
    "ax.plot(theta_liste_rad, Q_12, label='Q_12')\n",
    "ax.legend()\n",
    "ax.set_rlabel_position(-22.5)\n",
    "ax.grid(True)\n",
    "\n",
    "ax.set_title(\"Polarplot von Q_A\", va='bottom')\n",
    "plt.show()"
   ]
  },
  {
   "cell_type": "code",
   "execution_count": 2,
   "metadata": {
    "collapsed": false,
    "jupyter": {
     "outputs_hidden": false
    }
   },
   "outputs": [
    {
     "ename": "NameError",
     "evalue": "name 'theta_liste_grad' is not defined",
     "output_type": "error",
     "traceback": [
      "\u001b[0;31m---------------------------------------------------------------------------\u001b[0m",
      "\u001b[0;31mNameError\u001b[0m                                 Traceback (most recent call last)",
      "Cell \u001b[0;32mIn[2], line 2\u001b[0m\n\u001b[1;32m      1\u001b[0m Q_11 \u001b[38;5;241m=\u001b[39m []\n\u001b[0;32m----> 2\u001b[0m \u001b[38;5;28;01mfor\u001b[39;00m val \u001b[38;5;129;01min\u001b[39;00m \u001b[43mtheta_liste_grad\u001b[49m:\n\u001b[1;32m      3\u001b[0m     Q_11\u001b[38;5;241m.\u001b[39mappend(Q_transform(Q_B, val)[\u001b[38;5;241m0\u001b[39m][\u001b[38;5;241m0\u001b[39m])\n\u001b[1;32m      4\u001b[0m Q_22 \u001b[38;5;241m=\u001b[39m []\n",
      "\u001b[0;31mNameError\u001b[0m: name 'theta_liste_grad' is not defined"
     ]
    }
   ],
   "source": [
    "Q_11 = []\n",
    "for val in theta_liste_grad:\n",
    "    Q_11.append(Q_transform(Q_B, val)[0][0])\n",
    "Q_22 = []\n",
    "for val in theta_liste_grad:\n",
    "    Q_22.append(Q_transform(Q_B, val)[1][1])\n",
    "Q_12 = []\n",
    "for val in theta_liste_grad:\n",
    "    Q_12.append(Q_transform(Q_B, val)[0][1])\n",
    "\n",
    "fig, ax = plt.subplots(subplot_kw={'projection': 'polar'})\n",
    "ax.plot(theta_liste_rad, Q_11, label='Q_11')\n",
    "ax.plot(theta_liste_rad, Q_22, label='Q_22')\n",
    "ax.plot(theta_liste_rad, Q_12, label='Q_12')\n",
    "ax.legend()\n",
    "ax.set_rlabel_position(-22.5)\n",
    "ax.grid(True)\n",
    "\n",
    "ax.set_title(\"Polarplot von Q_B\", va='bottom')\n",
    "plt.show()"
   ]
  },
  {
   "cell_type": "markdown",
   "metadata": {},
   "source": [
    "### Aufgabe 10.3\n",
    "\n",
    "Gegeben sei die $Q$\\-Matrix für eine UD\\-Einzelschicht aus E\\-Glasfasern und Epoxidharz. \n",
    "\n",
    "Gegeben sei ein UD\\-Laminataufbau aus vier Schichten.\n",
    "\n",
    "Definieren Sie die folgenden Layups analog zu layup\\_1. Dabei sollen die Schichten immer aus 0,2 mm mit der gegebenen Q\\-Matrix für GFK bestehen.\n",
    "\n",
    "- L2: \\[45 / \\-45\\]\n",
    "- L3: \\[45 / \\-45\\]s\n",
    "- L4: \\[0 / 90 / 45 / \\-45\\]s\n",
    "\n"
   ]
  },
  {
   "cell_type": "code",
   "execution_count": null,
   "metadata": {
    "collapsed": false,
    "jupyter": {
     "outputs_hidden": false
    }
   },
   "outputs": [],
   "source": [
    "Q_GFK_UD = np.array([[32101., 2689., 0.],\n",
    "                   [2689., 9022., 0.],\n",
    "                   [0., 0. , 3282.]])"
   ]
  },
  {
   "cell_type": "code",
   "execution_count": null,
   "metadata": {
    "collapsed": false,
    "jupyter": {
     "outputs_hidden": false
    }
   },
   "outputs": [],
   "source": [
    "layup_1 = [{'Q':Q_GFK_UD, 't':0.2, 'theta':0},\n",
    "          {'Q':Q_GFK_UD, 't':0.2, 'theta':0},\n",
    "          {'Q':Q_GFK_UD, 't':0.2, 'theta':0},\n",
    "          {'Q':Q_GFK_UD, 't':0.2, 'theta':0},]"
   ]
  },
  {
   "cell_type": "markdown",
   "metadata": {},
   "source": [
    "### Aufgabe 10.4\n",
    "\n",
    "Schauen Sie sich die folgende Klassendefinition für Laminatobjekte an. Ergänzen Sie die Berechnungen der ABD\\- sowie der invertierten ABD\\-Matrix.\n",
    "\n",
    "Ergänzen Sie eine klasseninterne Funktion \"add_lamina(Q, t, theta)\" mit der sich dem Layup eine weitere Schicht hinzufügen lässt.\n",
    "\n",
    "<u>Hinweise:</u> \n",
    "\n",
    "$A_{ij} = \\sum_{k_=1}^{N} (\\bar{Q}_{ij})_k (z_k - z_{k-1})$\n",
    "\n",
    "$B_{ij} = \\frac12 \\sum_{k_=1}^{N} (\\bar{Q}_{ij})_k (z_k^2 - z_{k-1}^2)$\n",
    "\n",
    "$D_{ij} = \\frac13 \\sum_{k_=1}^{N} (\\bar{Q}_{ij})_k (z_k^3 - z_{k-1}^3)$\n",
    "\n"
   ]
  },
  {
   "cell_type": "code",
   "execution_count": null,
   "metadata": {
    "collapsed": false,
    "jupyter": {
     "outputs_hidden": false
    }
   },
   "outputs": [],
   "source": [
    "class laminate:\n",
    "\n",
    "    # Initiierung eines laminate-Objektes\n",
    "\n",
    "    def __init__(self, layup):\n",
    "        self.layup = layup\n",
    "        self.ABD = np.zeros((6, 6))\n",
    "        self.ABD_inv = np.zeros((6, 6))\n",
    "        self.t = 0.\n",
    "\n",
    "    # Methode zum Berechnen der Laminatdicke\n",
    "\n",
    "    def calc_t(self):\n",
    "        self.t = 0\n",
    "        for n in range(len(self.layup)):\n",
    "            self.t = self.t + self.layup[n]['t']\n",
    "\n",
    "    # Methode zum Berechnen der ABD-Matrix des Laminates\n",
    "\n",
    "    def calc_ABD(self):\n",
    "        A = np.zeros((3,3))\n",
    "        B = np.zeros((3,3))\n",
    "        D = np.zeros((3,3))\n",
    "        self.calc_t()\n",
    "        \n",
    "       \n",
    "        AB = np.append(A, B, axis=0) #führt Matrizen vertikal zusammen\n",
    "        BD = np.append(B, D, axis=0) #führt Matrizen vertikal zusammen\n",
    "        ABD = np.append(AB, BD, axis=1) #führt Matrizen horizontal zusammen\n",
    "        self.ABD =\n",
    "        self.ABD_inv = "
   ]
  },
  {
   "cell_type": "markdown",
   "metadata": {},
   "source": [
    "### Aufgabe 10.5\n",
    "\n",
    "Instanzieren Sie vier Laminate mit den gegebenen UD\\-Aufbauten\n",
    "\n",
    "Berechnen Sie und geben Sie jeweils die ABD\\-Matrix der Laminate aus. Diskutieren Sie diese.\n"
   ]
  },
  {
   "cell_type": "code",
   "execution_count": null,
   "metadata": {},
   "outputs": [],
   "source": []
  }
 ],
 "metadata": {
  "kaggle": {
   "accelerator": "none",
   "dataSources": [],
   "dockerImageVersionId": 30513,
   "isGpuEnabled": false,
   "isInternetEnabled": true,
   "language": "python",
   "sourceType": "notebook"
  },
  "kernelspec": {
   "display_name": "Python 3",
   "language": "python",
   "name": "python3"
  },
  "language_info": {
   "codemirror_mode": {
    "name": "ipython",
    "version": 3
   },
   "file_extension": ".py",
   "mimetype": "text/x-python",
   "name": "python",
   "nbconvert_exporter": "python",
   "pygments_lexer": "ipython3",
   "version": "3.13.1"
  }
 },
 "nbformat": 4,
 "nbformat_minor": 4
}
