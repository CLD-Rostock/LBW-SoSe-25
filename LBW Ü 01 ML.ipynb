{
 "cells": [
  {
   "cell_type": "markdown",
   "metadata": {
    "editable": true,
    "slideshow": {
     "slide_type": ""
    },
    "tags": []
   },
   "source": [
    "# LBW Übung 1 - Einführung in Jupyter Notebooks mit Python\n",
    "Das Ziel dieser Übung ist es, die Programmiersprache _Python_ und  _jupyter notebooks_ kennenzulernen, um sie in den nächsten Übungen immer wieder nutzen zu können. \n",
    "\n",
    "Die  _jupyter notebooks_ können als interaktives Notizbuch verstanden werden. Tatsächlich sind solche Notebooks nicht nur zum Lernen sondern auch für den ingenieurpraktischen Alltag sehr sinnvoll. Man kann dabei leicht Auswertungen, Analysen und Dokumentation an einem Ort zusammenführen. Größere Programmcodes können zwar manchmal in Notebooks vorteilhaft entwickelt und getestet werden, diese werden dann aber doch meist \"klassisch\" als Python\\-Module gespeichert. Diese Python\\-Module können dann aber wieder in jupyter notebooks geladen werden. Damit kann man Programmcode \\(im Hintergrund als Modul\\) und Auswertung \\(im Notebook\\) trennen. \n",
    "\n",
    "Anders als C++ und Java verwendet Python zum Trennen von Operationen keine geschweiften Klammern. Stattdessen wird über das Einrücken von Zeilen eine Trennung vorgenommen. \n",
    "\n",
    "Ein Notebook ist eine Ansammlung von Zellen. Jede Zelle kann markdown (also Text) oder Code enthalten.\n",
    "\n",
    "Viel Erfolg und Spaß!\n"
   ]
  },
  {
   "cell_type": "markdown",
   "metadata": {
    "tags": []
   },
   "source": [
    "## Einführung\n",
    "### Importieren der notwendigen Pakete\n",
    "\n",
    "Python ist eine mächtige Programmiersprache, die größte Stärke von ihr sind aber die vielen zusätzlichen Pakete, die einfach eingebunden werden können. Bitte führt die folgende Zelle zu Beginn aus (zuerst reinklicken, dann \"Strg + Enter\"). Hier wird das Paket _numpy_ eingebunden. Das Paket ist für viele grundlegende Mathematik-Aufgaben hilfreich und wir verwenden es im folgenden mehrfach. Um nicht jedes mal numpy ausschreiben zu müssen, wenn eine Funktion daraus verwendet wird, hat es sich etabliert, \"as np\" in den Code zu schreiben, damit der Code ein bisschen übersichtlicher wird."
   ]
  },
  {
   "cell_type": "code",
   "execution_count": 28,
   "metadata": {
    "execution": {
     "iopub.execute_input": "2024-01-03T12:21:11.672028Z",
     "iopub.status.busy": "2024-01-03T12:21:11.671578Z",
     "iopub.status.idle": "2024-01-03T12:21:11.704319Z",
     "shell.execute_reply": "2024-01-03T12:21:11.703182Z",
     "shell.execute_reply.started": "2024-01-03T12:21:11.671996Z"
    },
    "trusted": true
   },
   "outputs": [],
   "source": [
    "import numpy as np\n",
    "import math\n",
    "\n",
    "\n",
    "\n",
    "# Cut math und matplotlib"
   ]
  },
  {
   "cell_type": "markdown",
   "metadata": {
    "jp-MarkdownHeadingCollapsed": true,
    "tags": []
   },
   "source": [
    "### Zellstruktur\n",
    "Die Notebooks bestehen aus einzelnen Zellen. Der Programmcode einer Zelle kann mit \"Strg + Enter\" ausgeführt werden. Bei Textzellen wird dann nur die Formatierung dargestellt, Codezellen werden ausgeführt."
   ]
  },
  {
   "cell_type": "code",
   "execution_count": 29,
   "metadata": {
    "execution": {
     "iopub.execute_input": "2024-01-03T12:21:19.221157Z",
     "iopub.status.busy": "2024-01-03T12:21:19.220117Z",
     "iopub.status.idle": "2024-01-03T12:21:19.227333Z",
     "shell.execute_reply": "2024-01-03T12:21:19.226169Z",
     "shell.execute_reply.started": "2024-01-03T12:21:19.221116Z"
    },
    "trusted": true
   },
   "outputs": [
    {
     "name": "stdout",
     "output_type": "stream",
     "text": [
      "Hello World!\n"
     ]
    }
   ],
   "source": [
    "print(\"Hello World!\")"
   ]
  },
  {
   "cell_type": "markdown",
   "metadata": {},
   "source": [
    "Um eine Zeile auszukommentieren, kann eine # verwendet werden:"
   ]
  },
  {
   "cell_type": "code",
   "execution_count": 30,
   "metadata": {
    "execution": {
     "iopub.execute_input": "2024-01-03T12:25:09.196544Z",
     "iopub.status.busy": "2024-01-03T12:25:09.196084Z",
     "iopub.status.idle": "2024-01-03T12:25:09.202250Z",
     "shell.execute_reply": "2024-01-03T12:25:09.201109Z",
     "shell.execute_reply.started": "2024-01-03T12:25:09.196505Z"
    },
    "trusted": true
   },
   "outputs": [
    {
     "name": "stdout",
     "output_type": "stream",
     "text": [
      "Hello world 1!\n",
      "Hello world 3!\n"
     ]
    }
   ],
   "source": [
    "print(\"Hello world 1!\")\n",
    "#print(\"Hello world 2!\")\n",
    "print(\"Hello world 3!\")"
   ]
  },
  {
   "cell_type": "markdown",
   "id": "7e74cba6",
   "metadata": {},
   "source": [
    "Mit dem Gleichheitszeichen kann einer Variable ein Wert zugewiesen werden:"
   ]
  },
  {
   "cell_type": "code",
   "execution_count": 31,
   "id": "77bf000f",
   "metadata": {},
   "outputs": [
    {
     "name": "stdout",
     "output_type": "stream",
     "text": [
      "Beispieltext\n"
     ]
    }
   ],
   "source": [
    "ausgabetest = \"Beispieltext\"\n",
    "\n",
    "print(ausgabetest)"
   ]
  },
  {
   "cell_type": "markdown",
   "metadata": {},
   "source": [
    "Steht in der letzten Zeile einer Zelle ein Variablenname, so wird dieser beim Ausführen der Zelle ausgegeben:"
   ]
  },
  {
   "cell_type": "code",
   "execution_count": 32,
   "metadata": {
    "execution": {
     "iopub.execute_input": "2024-01-03T12:25:54.325982Z",
     "iopub.status.busy": "2024-01-03T12:25:54.325542Z",
     "iopub.status.idle": "2024-01-03T12:25:54.332842Z",
     "shell.execute_reply": "2024-01-03T12:25:54.331735Z",
     "shell.execute_reply.started": "2024-01-03T12:25:54.325948Z"
    },
    "trusted": true
   },
   "outputs": [
    {
     "data": {
      "text/plain": [
       "'Beispieltext'"
      ]
     },
     "execution_count": 32,
     "metadata": {},
     "output_type": "execute_result"
    }
   ],
   "source": [
    "ausgabetest = \"Beispieltext\"\n",
    "\n",
    "ausgabetest"
   ]
  },
  {
   "cell_type": "markdown",
   "id": "3169c4ff",
   "metadata": {},
   "source": [
    "Die Variablen werden in einen Zellübergreifenden Arbeitsspeicher geschrieben, also kann auch eine spätere Zelle eine früher definierte Variable verwenden:"
   ]
  },
  {
   "cell_type": "code",
   "execution_count": 33,
   "id": "1d6917b1",
   "metadata": {},
   "outputs": [
    {
     "data": {
      "text/plain": [
       "'Beispieltext'"
      ]
     },
     "execution_count": 33,
     "metadata": {},
     "output_type": "execute_result"
    }
   ],
   "source": [
    "ausgabetest"
   ]
  },
  {
   "cell_type": "markdown",
   "metadata": {},
   "source": [
    "Anders als ein \"normaler\" Code, wird bei Jupyter Notebooks nicht immer das gesamte Dokument ausgeführt. Stattdessen wird der Code Zellweise durchgelaufen. Die Variablen Führt die Zellen in dieser Reihenfolge aus. Wichtig ist hierbei nicht die räumliche Position im Dokument, sondern nur, welche Zelle wann ausgeführt wurde.\n",
    "\n",
    "Führt die folgenden Zellen in dieser Reihenfolge aus:\n",
    "\n",
    "Zelle 1, Zelle 2, Zelle 3, Zelle 2"
   ]
  },
  {
   "cell_type": "code",
   "execution_count": 34,
   "metadata": {
    "execution": {
     "iopub.execute_input": "2024-01-03T12:27:18.836360Z",
     "iopub.status.busy": "2024-01-03T12:27:18.835957Z",
     "iopub.status.idle": "2024-01-03T12:27:18.841548Z",
     "shell.execute_reply": "2024-01-03T12:27:18.840249Z",
     "shell.execute_reply.started": "2024-01-03T12:27:18.836316Z"
    },
    "trusted": true
   },
   "outputs": [],
   "source": [
    "# Zelle 1\n",
    "a = 10\n",
    "b = 20"
   ]
  },
  {
   "cell_type": "code",
   "execution_count": 35,
   "metadata": {
    "editable": true,
    "execution": {
     "iopub.execute_input": "2024-01-03T12:27:20.458919Z",
     "iopub.status.busy": "2024-01-03T12:27:20.458519Z",
     "iopub.status.idle": "2024-01-03T12:27:20.465499Z",
     "shell.execute_reply": "2024-01-03T12:27:20.464095Z",
     "shell.execute_reply.started": "2024-01-03T12:27:20.458888Z"
    },
    "slideshow": {
     "slide_type": ""
    },
    "tags": [],
    "trusted": true
   },
   "outputs": [
    {
     "name": "stdout",
     "output_type": "stream",
     "text": [
      "30\n"
     ]
    }
   ],
   "source": [
    "# Zelle 2\n",
    "print(a+b)"
   ]
  },
  {
   "cell_type": "code",
   "execution_count": 36,
   "metadata": {
    "execution": {
     "iopub.execute_input": "2024-01-03T12:26:39.152536Z",
     "iopub.status.busy": "2024-01-03T12:26:39.152126Z",
     "iopub.status.idle": "2024-01-03T12:26:39.158595Z",
     "shell.execute_reply": "2024-01-03T12:26:39.157333Z",
     "shell.execute_reply.started": "2024-01-03T12:26:39.152504Z"
    },
    "trusted": true
   },
   "outputs": [],
   "source": [
    "# Zelle 3\n",
    "b = 30"
   ]
  },
  {
   "cell_type": "markdown",
   "metadata": {},
   "source": [
    "Durch das Ausführen der dritten Zelle wird der Wert für b aus der ersten Zelle überschritten. Bei dem erneuten Ausführen der zweiten Zelle wird daher ein neuer Wert übergeben. "
   ]
  },
  {
   "cell_type": "markdown",
   "id": "1d7159ca",
   "metadata": {},
   "source": [
    "### Funktionen"
   ]
  },
  {
   "cell_type": "markdown",
   "id": "4f6f5eb2",
   "metadata": {},
   "source": [
    "Funktionen können in Python verwendet werden um Operationen auszuführen. Hierbei wird eine Funktion mit ihrem Namen und den Übergabewerten in Klammern angesprochen. So haben wir auch schon die Print-Ausgabe verwendet:"
   ]
  },
  {
   "cell_type": "code",
   "execution_count": 37,
   "id": "cc30db96",
   "metadata": {},
   "outputs": [
    {
     "name": "stdout",
     "output_type": "stream",
     "text": [
      "3\n"
     ]
    }
   ],
   "source": [
    "Maximalwert = max(1, 2, 3, 1)\n",
    "\n",
    "print(Maximalwert)"
   ]
  },
  {
   "cell_type": "markdown",
   "metadata": {
    "jp-MarkdownHeadingCollapsed": true,
    "tags": []
   },
   "source": [
    "### Arrays\n",
    "Um eine Matrix in Python zu beschreiben, benötigen wir die Möglichkeit Matrizen darzustellen. Hierfür verwenden wir die Arrays der Numpy-Klasse. Diese bringen bereits eine Vielzahl an verschiedenen Funktionen mit (siehe die [offizielle Dokumentation](https://numpy.org/doc/stable/reference/generated/numpy.array.html#)). Eine Möglichkeit, ein Array zu erstellen ist in der folgenden Zelle abgebildet: "
   ]
  },
  {
   "cell_type": "code",
   "execution_count": 38,
   "metadata": {
    "execution": {
     "iopub.execute_input": "2024-01-03T12:28:50.836384Z",
     "iopub.status.busy": "2024-01-03T12:28:50.835933Z",
     "iopub.status.idle": "2024-01-03T12:28:50.844976Z",
     "shell.execute_reply": "2024-01-03T12:28:50.844211Z",
     "shell.execute_reply.started": "2024-01-03T12:28:50.836328Z"
    },
    "trusted": true
   },
   "outputs": [
    {
     "name": "stdout",
     "output_type": "stream",
     "text": [
      "[[1 2]\n",
      " [3 4]]\n"
     ]
    }
   ],
   "source": [
    "matrix_a = np.array([[1,2],[3,4]])\n",
    "\n",
    "print(matrix_a)"
   ]
  },
  {
   "cell_type": "markdown",
   "metadata": {},
   "source": [
    "Es gibt beispielsweise vordefinierte Funktionen um das Inverse einer Matrix oder das Skalarprodukt zweier Matrizen zu ermitteln. \n"
   ]
  },
  {
   "cell_type": "markdown",
   "metadata": {},
   "source": [
    "\n",
    "Berechnen Sie in der folgenden Zelle das Inverse der oben definerten Matrix `matrix_a` und geben Sie es mit dem print-Befehl aus."
   ]
  },
  {
   "cell_type": "code",
   "execution_count": 39,
   "metadata": {
    "scrolled": true
   },
   "outputs": [
    {
     "name": "stdout",
     "output_type": "stream",
     "text": [
      "[[-2.   1. ]\n",
      " [ 1.5 -0.5]]\n"
     ]
    }
   ],
   "source": [
    "invers = np.linalg.inv(matrix_a)\n",
    "\n",
    "print(invers)"
   ]
  },
  {
   "cell_type": "markdown",
   "metadata": {},
   "source": [
    "Außerdem können einzelne Einträge eines Array überschrieben werden:"
   ]
  },
  {
   "cell_type": "code",
   "execution_count": 40,
   "metadata": {
    "execution": {
     "iopub.execute_input": "2024-01-03T12:30:22.737391Z",
     "iopub.status.busy": "2024-01-03T12:30:22.736924Z",
     "iopub.status.idle": "2024-01-03T12:30:22.742873Z",
     "shell.execute_reply": "2024-01-03T12:30:22.742047Z",
     "shell.execute_reply.started": "2024-01-03T12:30:22.737355Z"
    },
    "trusted": true
   },
   "outputs": [
    {
     "name": "stdout",
     "output_type": "stream",
     "text": [
      "[[1 5]\n",
      " [3 4]]\n"
     ]
    }
   ],
   "source": [
    "matrix_a[0][1] = 5\n",
    "\n",
    "print(matrix_a)"
   ]
  },
  {
   "cell_type": "markdown",
   "metadata": {
    "jp-MarkdownHeadingCollapsed": true,
    "tags": []
   },
   "source": [
    "### Listen\n",
    "Um später den Schichtaufbau für ein Laminat zu speichern, sollen Listen verwendet werden. Einer Liste können neue Elemente angehängt werden und es kann auf Elemente zugegriffen werden. Die dafür notwendige Syntax wird in der folgenden Zelle dargestellt:"
   ]
  },
  {
   "cell_type": "code",
   "execution_count": 41,
   "metadata": {
    "execution": {
     "iopub.execute_input": "2024-01-03T12:31:31.755832Z",
     "iopub.status.busy": "2024-01-03T12:31:31.755340Z",
     "iopub.status.idle": "2024-01-03T12:31:31.763863Z",
     "shell.execute_reply": "2024-01-03T12:31:31.762434Z",
     "shell.execute_reply.started": "2024-01-03T12:31:31.755796Z"
    },
    "trusted": true
   },
   "outputs": [
    {
     "name": "stdout",
     "output_type": "stream",
     "text": [
      "5\n",
      "Test\n",
      "Die Liste hat 3 Einträge\n"
     ]
    }
   ],
   "source": [
    "#Erzeugen einer leeren Liste\n",
    "Liste = []\n",
    "\n",
    "#Anhängen von neuen Elementen an eine Liste\n",
    "Liste.append(5)\n",
    "Liste.append(7)\n",
    "Liste.append(\"Test\")\n",
    "\n",
    "#Zugreifen auf Elemente des Liste\n",
    "print(Liste[0])\n",
    "print(Liste[2])\n",
    "\n",
    "#Die Anzahl der Schichten kann mit dem len() Befehl ausgegeben werden\n",
    "print('Die Liste hat', len(Liste), 'Einträge')"
   ]
  },
  {
   "cell_type": "markdown",
   "metadata": {
    "jp-MarkdownHeadingCollapsed": true,
    "tags": []
   },
   "source": [
    "### Funktionen selbst erstellen\n",
    "\n",
    "Ein weiteres, oftmals hilfreiches Feature von Python sind Funktionen. Funktionen beinhalten einen Algorithmus, der bei der Erzeugung der Funktion formuliert wird. Im Anschluss kann die Funktion mit ihrem Namen und Übergabewerten aufgerufen und verwendet werden:\n",
    "\n",
    "Funktionen können Werte manipulieren, Informationen in der Konsole ausgeben (mit dem `print`-Befehl) und/oder Werte zurückgeben. \n",
    "Um Werte zurückzugeben wird das return Statement genutzt:"
   ]
  },
  {
   "cell_type": "code",
   "execution_count": 42,
   "metadata": {
    "execution": {
     "iopub.execute_input": "2024-01-03T12:38:17.634093Z",
     "iopub.status.busy": "2024-01-03T12:38:17.633646Z",
     "iopub.status.idle": "2024-01-03T12:38:17.641934Z",
     "shell.execute_reply": "2024-01-03T12:38:17.640538Z",
     "shell.execute_reply.started": "2024-01-03T12:38:17.634060Z"
    },
    "trusted": true
   },
   "outputs": [
    {
     "name": "stdout",
     "output_type": "stream",
     "text": [
      "123\n"
     ]
    }
   ],
   "source": [
    "def potenz(a, b):\n",
    "    result = a**b\n",
    "    return result\n",
    "\n",
    "def minus(c, d, e):\n",
    "    f = potenz(c,d)\n",
    "    result = f - e\n",
    "    return result\n",
    "        \n",
    "ergebnis = minus(5, 3, 2) \n",
    "print(ergebnis)"
   ]
  },
  {
   "cell_type": "markdown",
   "metadata": {},
   "source": [
    "`def potenz(a, b, c):` sagt aus, das eine neue Methode definiert wird (`def`) mit einem Namen (`potenz`), die beim Aufrufen Übergabewerte benötigt (`(a, b`).\n",
    "\n",
    "Innerhalb der Methode wird dann ein Algorithmus ausgeführt (`result = a**b`) und zurückgegeben (`return result`)\n",
    "\n",
    "Die Methode kann mit `ergebnis = potenz(5, 3, 2)` verwendet werden. Hierbei wird der Rückgabewert in `ergebnis` gespeichert und kann dann mit dem print-Befehl ausgegeben werden. Es kann also auch eine Methode innerhalb einer anderen verwendet werden."
   ]
  },
  {
   "cell_type": "markdown",
   "id": "38be91ed",
   "metadata": {},
   "source": [
    "### Aufgabe 1.1 - Definieren einer Funktion\n",
    "\n",
    "Definieren Sie die folgende Funktion in Python:\n",
    "$f(x, y) = 2^x + x/y + 2y$"
   ]
  },
  {
   "cell_type": "markdown",
   "id": "d990b10e",
   "metadata": {},
   "source": [
    "### If Bedingungen und Schleifen\n",
    "\n",
    "Python verfügt über `if-else` Bedingungen und Schleifen. `if-else` Bedingungen führen den Inhalt basierend auf einer Randbedingung aus. Schleifen können sowohl als `while` als auch als `for` Schleifen umgesetzt werden. Für unsere Anwendungen sind `for` Schleifen häufig die geeignetere Wahl. Die Syntax ist in der folgenden Zelle dargestellt:"
   ]
  },
  {
   "cell_type": "code",
   "execution_count": 43,
   "id": "42fdfc6c",
   "metadata": {},
   "outputs": [
    {
     "name": "stdout",
     "output_type": "stream",
     "text": [
      "A ist True\n",
      "1\n",
      "2\n",
      "3\n"
     ]
    }
   ],
   "source": [
    "A = True\n",
    "\n",
    "if A:\n",
    "    print(\"A ist True\")\n",
    "else:\n",
    "    print(\"A ist False\")\n",
    "\n",
    "\n",
    "for i in [1, 2, 3]:\n",
    "    print(i)"
   ]
  },
  {
   "cell_type": "markdown",
   "metadata": {
    "jp-MarkdownHeadingCollapsed": true,
    "tags": []
   },
   "source": [
    "### Klassenstruktur\n",
    "\n",
    "Die Verwendung von Klassen kennen Sie vielleicht noch aus Informatik 1. Sie dient primär dazu, Code und Zeit zu sparen. Eine Klasse in Python beschreibt eine **Art** von Dingen. Ein einfaches mechanisches Beispiel wäre die Klasse Stab. Stäbe haben grundsätzlich immer die gleichen Eigenschaften, beispielsweise eine Länge, einen Elastizitätsmodul und eine Querschnittsfläche. In der folgenden Zelle wird die Grundstruktur erschaffen:"
   ]
  },
  {
   "cell_type": "code",
   "execution_count": 44,
   "metadata": {
    "execution": {
     "iopub.execute_input": "2024-01-03T12:41:52.959011Z",
     "iopub.status.busy": "2024-01-03T12:41:52.958168Z",
     "iopub.status.idle": "2024-01-03T12:41:52.964821Z",
     "shell.execute_reply": "2024-01-03T12:41:52.963574Z",
     "shell.execute_reply.started": "2024-01-03T12:41:52.958969Z"
    },
    "trusted": true
   },
   "outputs": [],
   "source": [
    "class Stab:\n",
    "    def __init__(self, L_mm, E_MPa, A_mm2):\n",
    "        self.L_mm = L_mm\n",
    "        self.E_MPa = E_MPa\n",
    "        self.A_mm2 = A_mm2"
   ]
  },
  {
   "cell_type": "markdown",
   "metadata": {},
   "source": [
    "`class Stab:` sagt hierbei aus, das in dem darauf folgenden, eingerückten Code die Klasse Stab beschrieben wird.\n",
    "\n",
    "`def __init__(self, L_mm, E_MPa, A_mm2):` beschreibt eine Methode um eine neue Instanz, also ein neues Objekt der Klasse Stab anzulegen. Hierbei müssen 3 Parameter mitgegeben werden, die innerhalb der Klasse mithilfe der Namen `L_mm, E_MPa, A_mm2` verwendet werden können.\n",
    "\n",
    "`self.L_mm = L_mm`,\n",
    " \n",
    "`self.E_MPa = E_MPa`,\n",
    " \n",
    "`self.A_mm2 = A_mm2`\n",
    "weisen die Übergabewerte Parametern des neu erzeugten Objektes zu. Auf diese können wir auch nach beenden der Methode noch zurückgreifen. "
   ]
  },
  {
   "cell_type": "markdown",
   "metadata": {},
   "source": [
    "Jetzt können Instanzen der Klasse Stab definiert werden. Dafür kann der Code in der folgenden Zelle verwendet werden."
   ]
  },
  {
   "cell_type": "code",
   "execution_count": 45,
   "metadata": {
    "execution": {
     "iopub.execute_input": "2024-01-03T12:44:07.012097Z",
     "iopub.status.busy": "2024-01-03T12:44:07.010830Z",
     "iopub.status.idle": "2024-01-03T12:44:07.016943Z",
     "shell.execute_reply": "2024-01-03T12:44:07.016074Z",
     "shell.execute_reply.started": "2024-01-03T12:44:07.012033Z"
    },
    "trusted": true
   },
   "outputs": [],
   "source": [
    "Stab_a = Stab(100, 80000, 25)"
   ]
  },
  {
   "cell_type": "markdown",
   "metadata": {},
   "source": [
    "Mit der Codezelle oben wird ein neues Objekt der Klasse Stab erzeugt. Der Stab hat nach eigener Definition eine Länge von 100 mm, einen E-Modul von 80 000 MPa und eine Querschnittsfläche von 25 mm.\n",
    "\n",
    "Mit `Stab_a.L_mm` kann beispielsweise auf die Länge des Stabes zurückgegriffen werden."
   ]
  },
  {
   "cell_type": "code",
   "execution_count": 46,
   "metadata": {
    "execution": {
     "iopub.execute_input": "2024-01-03T12:44:50.875307Z",
     "iopub.status.busy": "2024-01-03T12:44:50.874835Z",
     "iopub.status.idle": "2024-01-03T12:44:50.882550Z",
     "shell.execute_reply": "2024-01-03T12:44:50.881381Z",
     "shell.execute_reply.started": "2024-01-03T12:44:50.875271Z"
    },
    "trusted": true
   },
   "outputs": [
    {
     "data": {
      "text/plain": [
       "100"
      ]
     },
     "execution_count": 46,
     "metadata": {},
     "output_type": "execute_result"
    }
   ],
   "source": [
    "Stab_a.L_mm"
   ]
  },
  {
   "cell_type": "markdown",
   "metadata": {},
   "source": [
    "Um diese Klasse auch wirklich nutzen zu können, kann eine Methode definiert werden, die die Längenänderungen im Stab ermittelt. Hierfür gilt die Formel:\n",
    "\n",
    "$ \\Delta l = l \\frac{F}{EA} $\n",
    "\n",
    "Mit Längenänderung:          $\\Delta l$\n",
    "\n",
    "Normalkraft:             $ F_N$\n",
    "\n",
    "E-Modul:           $E$\n",
    "\n",
    "Querschnittsfläche:    $A$"
   ]
  },
  {
   "cell_type": "code",
   "execution_count": 47,
   "metadata": {
    "execution": {
     "iopub.execute_input": "2024-01-03T12:45:36.950718Z",
     "iopub.status.busy": "2024-01-03T12:45:36.950247Z",
     "iopub.status.idle": "2024-01-03T12:45:36.957555Z",
     "shell.execute_reply": "2024-01-03T12:45:36.956103Z",
     "shell.execute_reply.started": "2024-01-03T12:45:36.950684Z"
    },
    "trusted": true
   },
   "outputs": [],
   "source": [
    "class Stab:\n",
    "    def __init__(self, L_mm, E_MPa, A_mm2):\n",
    "        self.L_mm = L_mm\n",
    "        self.E_MPa = E_MPa\n",
    "        self.A_mm2 = A_mm2\n",
    "        \n",
    "    def berechne_laengenaenderung(self, F_N):\n",
    "        deltaL_mm = self.L_mm * F_N / (self.E_MPa * self.A_mm2)\n",
    "        return(deltaL_mm)"
   ]
  },
  {
   "cell_type": "markdown",
   "metadata": {},
   "source": [
    "Die Methode `berechne_laengenaenderung` benötigt den zusätzlichen Übergabewert `F_N` und schreibt die Längenänderung für den Stab, auf den sie angewendet wird. Hiermit können beispielsweise die Längenänderungen von zwei Stäben mit gleicher Beanspruchung und gleichen Maßen verglichen werden:"
   ]
  },
  {
   "cell_type": "code",
   "execution_count": 48,
   "metadata": {
    "execution": {
     "iopub.execute_input": "2024-01-03T12:46:58.725966Z",
     "iopub.status.busy": "2024-01-03T12:46:58.725486Z",
     "iopub.status.idle": "2024-01-03T12:46:58.732861Z",
     "shell.execute_reply": "2024-01-03T12:46:58.731877Z",
     "shell.execute_reply.started": "2024-01-03T12:46:58.725927Z"
    },
    "trusted": true
   },
   "outputs": [
    {
     "name": "stdout",
     "output_type": "stream",
     "text": [
      "25.0\n",
      "0.19047619047619047\n"
     ]
    }
   ],
   "source": [
    "Stab_PP = Stab(1000, 1600, 25)\n",
    "Stab_Stahl = Stab(1000, 210000, 25)\n",
    "\n",
    "print(Stab_PP.berechne_laengenaenderung(1000))\n",
    "print(Stab_Stahl.berechne_laengenaenderung(1000))"
   ]
  },
  {
   "cell_type": "markdown",
   "metadata": {},
   "source": [
    "### <span style=\"color:red\">Aufgabe 1.2 Erzeugen einer Methode zur Berechnung der Masse </span>\n",
    "\n",
    "Vervollständigen Sie die folgende Codezelle so, das eine Methode zur Berechnung der Masse des Stabs implementiert ist und testen Sie diese."
   ]
  },
  {
   "cell_type": "code",
   "execution_count": 49,
   "metadata": {},
   "outputs": [],
   "source": [
    "def berechne_stabgewicht(rho_g_mm3, L_mm, A_mm2):\n",
    "    m = L_mm * A_mm2 * rho_g_mm3\n",
    "    return m"
   ]
  },
  {
   "cell_type": "code",
   "execution_count": 50,
   "id": "bca42faa",
   "metadata": {},
   "outputs": [
    {
     "data": {
      "text/plain": [
       "125000"
      ]
     },
     "execution_count": 50,
     "metadata": {},
     "output_type": "execute_result"
    }
   ],
   "source": [
    "berechne_stabgewicht(5, 1000, 25)"
   ]
  },
  {
   "cell_type": "markdown",
   "metadata": {},
   "source": [
    "### <span style=\"color:red\">Aufgabe 1.3 Erzeugen einer Klasse für Balken </span>\n",
    "\n",
    "a) Programmieren Sie eine Klasse Balken, der die Parameter Länge, E-Modul und Flächenträgheitsmoment übergeben bekommt. Definieren Sie eine Methode, die für den Balken und eine gegeben Querkraft die Durchbiegung ermittelt. Der Balken ist an einem Ende vollständig eingespannt (Kragträger), als Last wirkt eine Querkraft im anderen Balkenende.\n",
    "\n",
    "b) Programmieren Sie eine Methode, die für den gleichen Balken die maximale Durchbiegung infolge einer gleichmäßigen Streckenlast ermittelt und ausgibt.\n",
    "    "
   ]
  },
  {
   "cell_type": "code",
   "execution_count": 51,
   "metadata": {
    "execution": {
     "iopub.execute_input": "2024-01-02T17:24:02.475877Z",
     "iopub.status.busy": "2024-01-02T17:24:02.475539Z",
     "iopub.status.idle": "2024-01-02T17:24:02.482744Z",
     "shell.execute_reply": "2024-01-02T17:24:02.481277Z",
     "shell.execute_reply.started": "2024-01-02T17:24:02.475845Z"
    },
    "trusted": true
   },
   "outputs": [],
   "source": [
    "class Balken:\n",
    "    def __init__(self, L_mm, E_MPa, I_mm4):\n",
    "        self.L_mm = L_mm\n",
    "        self.E_MPa = E_MPa\n",
    "        self.I_mm4 = I_mm4\n",
    "\n",
    "    def berechne_druchbiegung_einzel_last(self, F, x_mm):\n",
    "        w = F / 2 * self.L_mm * x_mm**2 / (self.E_MPa * self.I_mm4) - 1/6 * F  * x_mm**3 / (self.E_MPa * self.I_mm4) \n",
    "        return w\n",
    "    \n",
    "    def berechne_druchbiegung_gleichverteilte_last(self, q):\n",
    "        w = q / 8 * self.L_mm**4 / (self.E_Mpa * self.I_mm4)\n",
    "        return w"
   ]
  },
  {
   "cell_type": "code",
   "execution_count": 52,
   "id": "d77721cc",
   "metadata": {},
   "outputs": [
    {
     "name": "stdout",
     "output_type": "stream",
     "text": [
      "15.873015873015873\n"
     ]
    }
   ],
   "source": [
    "Balken1 = Balken(L_mm = 1000, E_MPa = 210000, I_mm4 = 1000)\n",
    "w1 = Balken1.berechne_druchbiegung_einzel_last(F = 10, x_mm = 1000)\n",
    "print(w1)"
   ]
  },
  {
   "cell_type": "markdown",
   "id": "84dd855a",
   "metadata": {},
   "source": [
    "### Matplotlib"
   ]
  },
  {
   "cell_type": "code",
   "execution_count": 53,
   "id": "cdfb7e04",
   "metadata": {},
   "outputs": [],
   "source": [
    "import matplotlib.pyplot as plt"
   ]
  },
  {
   "cell_type": "markdown",
   "id": "8ff8ebcb",
   "metadata": {},
   "source": [
    "Mit der matplotlib Bibliothek lassen sich Daten grafisch darstellen, was häufig für die Interpretation dieser hilfeich ist.\n",
    "\n",
    "Wir wollen hier eine kurze Einführung in diese Bibliothek geben, welche in der bereits vorangegangen Code-Zelle importiert wurde\n",
    "\n",
    "Beginnen wir damit, uns Daten zu erzeugen die wir plotten wollen, hier als Beispiel der Sinus und Cosinus zwischen 0 und 2 $\\pi$:\n",
    "\n",
    "Dazu müssen wir zunächst die Daten erzeugen, die wir im Anschluss darstellen können. Hierfür verwenden wir `np.linspace()` und `np.sin()`bzw. `np.cos()`"
   ]
  },
  {
   "cell_type": "code",
   "execution_count": 54,
   "metadata": {
    "editable": true,
    "slideshow": {
     "slide_type": ""
    },
    "tags": []
   },
   "outputs": [],
   "source": [
    "x = np.linspace(0, 2* np.pi, 100)\n",
    "y1 = np.sin(x)\n",
    "y2 = np.cos(x) "
   ]
  },
  {
   "cell_type": "markdown",
   "id": "909204dc",
   "metadata": {},
   "source": [
    "Jetzt wollen wir die Daten darstellen (auch plotten)\n",
    "\n",
    "`plt.plot(x,y)` plottet die x-Werte und y-Werte in ein entsprechendes Diagramm.\n",
    "\n",
    "Mit `label=` geben wir einen Namen vor wie die Kurve in unserem Diagramm heißen soll.\n",
    "\n",
    "Mit `color=` können wir unsere Wunschfarbe wählen. Wird diese nicht gegeben, werden die Standardfarben von Matplotlib verwendet.\n",
    "\n",
    "Die Abbildung können wir vielfältig modifizieren. Die Achsen können zum Beispiel mit `plt.xlabel()` bzw `plt.ylabel` beschreiben werden.\n",
    "Mit `plt.legend()` wird die Legende im Diagramm ausgegeben.\n",
    "\n",
    "Mit `plt.show()` wird das Diagramm, wie es zuvor definiert wurde ausgegeben. Nach der Ausgabe wird das aktuelle Diagramm aus dem Arbeitsspeicher entfernt. Wollen wir beide Kurven einzel ausgeben, müssen wir also das `plt.show()` einkommentieren."
   ]
  },
  {
   "cell_type": "code",
   "execution_count": 55,
   "id": "b3d79908",
   "metadata": {},
   "outputs": [
    {
     "data": {
      "image/png": "[encoded data removed]",
      "text/plain": [
       "<Figure size 640x480 with 1 Axes>"
      ]
     },
     "metadata": {},
     "output_type": "display_data"
    }
   ],
   "source": [
    "plt.plot(x, y1, label='sin(x)', color='blue')\n",
    "#plt.legend()\n",
    "#plt.show()\n",
    "plt.plot(x, y2, label='cos(x)', color='red')\n",
    "plt.xlabel('x-Koordinate bzw. Abszisse')\n",
    "plt.ylabel('y-Kooirdinate bzw. Ordinate')\n",
    "plt.legend()\n",
    "plt.show()"
   ]
  },
  {
   "cell_type": "markdown",
   "id": "0c416130",
   "metadata": {},
   "source": [
    "### <span style=\"color:red\">Aufgabe 1.4 Plotten der Biegelinie des Balkens </span>\n",
    "\n",
    "Erstellen Sie ein Diagramm, in dem die Biegelinie eines Balkens mit einer Länge von 1000 mm, einer Steifigkeit von E = 210000 MPa und einem Flächenträgheitsmoement von I = 1000 mm^4 für Lasten von 100, 200 und 500 N.\n",
    "\n",
    "Um die y-Achse zu invertieren kann `plt.gca().invert_yaxis()` verwendet werden."
   ]
  },
  {
   "cell_type": "code",
   "execution_count": 56,
   "id": "43bddb52",
   "metadata": {},
   "outputs": [
    {
     "data": {
      "image/png": "[encoded data removed]",
      "text/plain": [
       "<Figure size 640x480 with 1 Axes>"
      ]
     },
     "metadata": {},
     "output_type": "display_data"
    }
   ],
   "source": [
    "L = 1000\n",
    "x = np.linspace(0, L, 1000)\n",
    "Balken_plot = Balken(L_mm = L, E_MPa = 210000, I_mm4 = 10000)\n",
    "for F in [100, 200, 500]:\n",
    "    w = Balken_plot.berechne_druchbiegung_einzel_last(F = F, x_mm = x)\n",
    "    plt.plot(x, w, label = \"Einzel Last: \" + str(F) +\" N\")\n",
    "    \n",
    "plt.gca().invert_yaxis()\n",
    "plt.xlabel(\"x [mm]\")\n",
    "plt.ylabel(\"w [mm]\")\n",
    "plt.legend()\n",
    "plt.show()"
   ]
  }
 ],
 "metadata": {
  "kaggle": {
   "accelerator": "none",
   "dataSources": [],
   "dockerImageVersionId": 30626,
   "isGpuEnabled": false,
   "isInternetEnabled": false,
   "language": "python",
   "sourceType": "notebook"
  },
  "kernelspec": {
   "display_name": "Python 3",
   "language": "python",
   "name": "python3"
  },
  "language_info": {
   "codemirror_mode": {
    "name": "ipython",
    "version": 3
   },
   "file_extension": ".py",
   "mimetype": "text/x-python",
   "name": "python",
   "nbconvert_exporter": "python",
   "pygments_lexer": "ipython3",
   "version": "3.13.1"
  }
 },
 "nbformat": 4,
 "nbformat_minor": 5
}
